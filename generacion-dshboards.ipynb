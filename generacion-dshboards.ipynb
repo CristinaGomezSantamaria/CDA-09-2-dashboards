{
 "cells": [
  {
   "cell_type": "markdown",
   "metadata": {},
   "source": [
    "Generación de Dashboards usando Python y HTML\n",
    "===\n",
    "\n",
    "**Juan David Velásquez Henao**  \n",
    "jdvelasq@unal.edu.co   \n",
    "Universidad Nacional de Colombia, Sede Medellín  \n",
    "Facultad de Minas  \n",
    "Medellín, Colombia\n",
    "\n",
    "---\n",
    "\n",
    "Haga click [aquí](https://github.com/jdvelasq/CDA-09-2-dashboards) para acceder al repositorio online.\n",
    "\n",
    "Haga click [aquí](http://nbviewer.jupyter.org/github/jdvelasq/CDA-09-2-dashboards/tree/master/) para explorar el repositorio usando `nbviewer`. "
   ]
  },
  {
   "cell_type": "markdown",
   "metadata": {},
   "source": [
    "---"
   ]
  },
  {
   "cell_type": "markdown",
   "metadata": {},
   "source": [
    "Para realizar este tutorial se asume que usted está familiarizado con el tutorial anterior sobre GitHub Pages.\n",
    "\n",
    "\n",
    "Estos ejemplos son adaptados de [w3schools](https://www.w3schools.com/howto/default.asp)."
   ]
  },
  {
   "cell_type": "markdown",
   "metadata": {},
   "source": [
    "---"
   ]
  },
  {
   "cell_type": "markdown",
   "metadata": {},
   "source": [
    "**Data Pipeline.--** El analista ya preparó el código que realiza los análisis y gráficos necesarios para construir los dashboards. La siguiente celda de código simula un *data pipeline* y simplemente genera dos gráficos que serán publicados en el dashboard."
   ]
  },
  {
   "cell_type": "code",
   "execution_count": 2,
   "metadata": {},
   "outputs": [],
   "source": [
    "import numpy as np\n",
    "import matplotlib.pyplot as plt\n",
    "\n",
    "x = np.linspace(0, 2*3.1416, 50, endpoint=True)\n",
    "y1 = np.sin(x)\n",
    "y2 = np.cos(x)\n",
    "\n",
    "plt.plot(x, y1, color ='blue');\n",
    "plt.xlabel('x');\n",
    "plt.ylabel('Sin(x)');\n",
    "plt.savefig('sin.png')\n",
    "\n",
    "plt.clf();\n",
    "plt.plot(x, y2, color = 'red');\n",
    "plt.xlabel('x');\n",
    "plt.ylabel('Cos(x)');\n",
    "plt.savefig('cos.png');\n",
    "plt.close()"
   ]
  },
  {
   "cell_type": "markdown",
   "metadata": {},
   "source": [
    "**Ejemplo 1.--** Página web mínima para visualizar las gráficas."
   ]
  },
  {
   "cell_type": "code",
   "execution_count": 42,
   "metadata": {
    "scrolled": true
   },
   "outputs": [
    {
     "name": "stdout",
     "output_type": "stream",
     "text": [
      "Overwriting dashboard1.html\n"
     ]
    }
   ],
   "source": [
    "%%writefile dashboard1.html\n",
    "\n",
    "<!DOCTYPE html>\n",
    "<html lang=\"en\">\n",
    "<!-- Esta parte es generica -->\n",
    "<head>\n",
    "  <title>Mi primer dashboard (TITULO) </title>\n",
    "  <meta charset=\"utf-8\">\n",
    "  <meta name=\"viewport\" content=\"width=device-width, initial-scale=1\">\n",
    "  <link rel=\"stylesheet\" href=\"https://maxcdn.bootstrapcdn.com/bootstrap/3.3.7/css/bootstrap.min.css\">\n",
    "  <script src=\"https://ajax.googleapis.com/ajax/libs/jquery/3.3.1/jquery.min.js\"></script>\n",
    "  <script src=\"https://maxcdn.bootstrapcdn.com/bootstrap/3.3.7/js/bootstrap.min.js\"></script>\n",
    "</head>\n",
    "<body>\n",
    "\n",
    "<h1>Mi primer dashboard usando Boostrap (CONTENEDOR)</h1>\n",
    "<p>Este es un parrafo.</p> \n",
    "\n",
    "<div class=\"row\">\n",
    "  <div class=\"col-sm-4\">\n",
    "  <p>Grafica de Sin(x).</p>\n",
    "  <img src=\"sin.png\" alt=\"Sin(x)\">    \n",
    "  </div>\n",
    "  <div class=\"col-sm-4\">\n",
    "  <p>Grafica de Cos(x).</p>\n",
    "  <img src=\"cos.png\" alt=\"Sin(x)\">\n",
    "  </div>\n",
    "  \n",
    "</div>    \n",
    "    \n",
    "</body>\n",
    "</html>\n"
   ]
  },
  {
   "cell_type": "markdown",
   "metadata": {},
   "source": [
    "**Ejemplo 2.--** Texto dinámico. En este caso, se pasan valores de las variables en Python directamente al código html usando `jinja2`."
   ]
  },
  {
   "cell_type": "code",
   "execution_count": 21,
   "metadata": {},
   "outputs": [],
   "source": [
    "from jinja2 import Template\n",
    "\n",
    "texto = \"\"\"\n",
    "<!DOCTYPE html>\n",
    "<html lang=\"en\">\n",
    "<!-- Esta parte es generica -->\n",
    "<head>\n",
    "  <title>Mi primer dashboard (TITULO) </title>\n",
    "  <meta charset=\"utf-8\">\n",
    "  <meta name=\"viewport\" content=\"width=device-width, initial-scale=1\">\n",
    "  <link rel=\"stylesheet\" href=\"https://maxcdn.bootstrapcdn.com/bootstrap/3.3.7/css/bootstrap.min.css\">\n",
    "  <script src=\"https://ajax.googleapis.com/ajax/libs/jquery/3.3.1/jquery.min.js\"></script>\n",
    "  <script src=\"https://maxcdn.bootstrapcdn.com/bootstrap/3.3.7/js/bootstrap.min.js\"></script>\n",
    "</head>\n",
    "<body>\n",
    "  \n",
    "<div class=\"container\">\n",
    "  <div class=\"jumbotron\">\n",
    "    <h1>Mi primer dashboard usando Boostrap (CONTENEDOR)</h1>      \n",
    "    <p>Texto secundario.</p>\n",
    "  </div>\n",
    "  \n",
    "  <p>Este es el valor de la variable myvar = {{ myvar }} \n",
    "     (este valor fue computado usando Python)</p>\n",
    "  <p>Este es un parrafo.</p> \n",
    "  <p>Grafica de Sin(x).</p>\n",
    "  <img src=\"sin.png\" alt=\"Sin(x)\">\n",
    "  <p>Grafica de Cos(x).</p>\n",
    "  <img src=\"cos.png\" alt=\"Sin(x)\">\n",
    "</div>\n",
    "\n",
    "</body>\n",
    "</html>\n",
    "\"\"\"\n",
    "\n",
    "template = Template(texto)\n",
    "\n",
    "file = open(\"dashboard2.html\",\"w\") \n",
    "## aca se pasa el valor computado en Python al código HTML\n",
    "file.write( template.render(myvar = 123456789))\n",
    "file.close()\n"
   ]
  },
  {
   "cell_type": "markdown",
   "metadata": {},
   "source": [
    "**Ejemplo 3.--** Formato de secciones tipo acordeón."
   ]
  },
  {
   "cell_type": "code",
   "execution_count": 29,
   "metadata": {},
   "outputs": [
    {
     "name": "stdout",
     "output_type": "stream",
     "text": [
      "Overwriting dashboard3.html\n"
     ]
    }
   ],
   "source": [
    "%%writefile dashboard3.html\n",
    "\n",
    "<!DOCTYPE html>\n",
    "<html lang=\"en\">\n",
    "<!-- Esta parte es generica -->\n",
    "<head>\n",
    "  <title>Mi primer dashboard (TITULO) </title>\n",
    "  <meta charset=\"utf-8\">\n",
    "  <meta name=\"viewport\" content=\"width=device-width, initial-scale=1\">\n",
    "  <link rel=\"stylesheet\" href=\"https://maxcdn.bootstrapcdn.com/bootstrap/3.3.7/css/bootstrap.min.css\">\n",
    "  <script src=\"https://ajax.googleapis.com/ajax/libs/jquery/3.3.1/jquery.min.js\"></script>\n",
    "  <script src=\"https://maxcdn.bootstrapcdn.com/bootstrap/3.3.7/js/bootstrap.min.js\"></script>\n",
    "</head>\n",
    "<body>\n",
    "  \n",
    "<div class=\"container\">\n",
    "  <div class=\"jumbotron\">\n",
    "    <h1>Mi primer dashboard usando Boostrap (CONTENEDOR)</h1>      \n",
    "    <p>Texto secundario.</p>\n",
    "  </div>\n",
    "  \n",
    "  <p>Este es un parrafo.</p>\n",
    "  \n",
    "  <div class=\"container\">\n",
    "    <h2>Grafico 1</h2>\n",
    "    <p>Haga click aquí para abrirlo y cerrarlo</p>\n",
    "    <div class=\"panel-group\">\n",
    "      <div class=\"panel panel-default\">\n",
    "        <div class=\"panel-heading\">\n",
    "          <h4 class=\"panel-title\">\n",
    "            <a data-toggle=\"collapse\" href=\"#collapse1\">Panel del gráfico 1</a>\n",
    "          </h4>\n",
    "        </div>\n",
    "        <div id=\"collapse1\" class=\"panel-collapse collapse\">\n",
    "          <div class=\"panel-body\">\n",
    "            <p>Grafica de Sin(x).</p>\n",
    "            <img src=\"sin.png\" alt=\"Sin(x)\">\n",
    "          </div>\n",
    "          <div class=\"panel-footer\">Panel Footer</div>\n",
    "        </div>\n",
    "      </div>\n",
    "    </div>\n",
    "  </div>\n",
    "\n",
    "  <div class=\"container\">\n",
    "    <h2>Grafico 2</h2>\n",
    "    <p>Haga click aquí para abrirlo y cerrarlo</p>\n",
    "    <div class=\"panel-group\">\n",
    "      <div class=\"panel panel-default\">\n",
    "        <div class=\"panel-heading\">\n",
    "          <h4 class=\"panel-title\">\n",
    "            <a data-toggle=\"collapse\" href=\"#collapse2\">Panel del gráfico 2</a>\n",
    "          </h4>\n",
    "        </div>\n",
    "        <div id=\"collapse2\" class=\"panel-collapse collapse\">\n",
    "          <div class=\"panel-body\">\n",
    "            <p>Grafica de Cos(x).</p>\n",
    "            <img src=\"cos.png\" alt=\"Cos(x)\">\n",
    "          </div>\n",
    "          <div class=\"panel-footer\">Panel Footer</div>\n",
    "        </div>\n",
    "      </div>\n",
    "    </div>\n",
    "  </div>\n",
    "\n",
    "    \n",
    "</div>\n",
    "\n",
    "</body>\n",
    "</html>"
   ]
  },
  {
   "cell_type": "markdown",
   "metadata": {},
   "source": [
    "**Ejemplo 4.--** Tabs horizontales."
   ]
  },
  {
   "cell_type": "code",
   "execution_count": 44,
   "metadata": {},
   "outputs": [
    {
     "name": "stdout",
     "output_type": "stream",
     "text": [
      "Overwriting dashboard4.html\n"
     ]
    }
   ],
   "source": [
    "%%writefile dashboard4.html\n",
    "\n",
    "<!DOCTYPE html>\n",
    "<html lang=\"en\">\n",
    "<head>\n",
    "  <title>Bootstrap Example</title>\n",
    "  <meta charset=\"utf-8\">\n",
    "  <meta name=\"viewport\" content=\"width=device-width, initial-scale=1\">\n",
    "  <link rel=\"stylesheet\" href=\"https://maxcdn.bootstrapcdn.com/bootstrap/3.3.7/css/bootstrap.min.css\">\n",
    "  <script src=\"https://ajax.googleapis.com/ajax/libs/jquery/3.3.1/jquery.min.js\"></script>\n",
    "  <script src=\"https://maxcdn.bootstrapcdn.com/bootstrap/3.3.7/js/bootstrap.min.js\"></script>\n",
    "</head>\n",
    "<body>\n",
    "\n",
    "\n",
    "<div class=\"container\">\n",
    "  <h2>Mi primer dashboard</h2>\n",
    "  <p>Este es un ejemplo de un panel=\"pill\"</p>\n",
    "  <ul class=\"nav nav-pills\">\n",
    "    <li class=\"active\"><a data-toggle=\"pill\" href=\"#home\">Home</a></li>\n",
    "    <li><a data-toggle=\"pill\" href=\"#menu1\">Menu 1</a></li>\n",
    "    <li><a data-toggle=\"pill\" href=\"#menu2\">Menu 2</a></li>\n",
    "  </ul>\n",
    "  \n",
    "  <div class=\"tab-content\">\n",
    "    <div id=\"home\" class=\"tab-pane fade in active\">\n",
    "      <h3>TEXTO INICIAL</h3>\n",
    "      <p>Este es el texto del primer menu</p>\n",
    "    </div>\n",
    "    <div id=\"menu1\" class=\"tab-pane fade\">\n",
    "      <p>Grafica de Sin(x).</p>\n",
    "      <img src=\"sin.png\" alt=\"Sin(x)\">\n",
    "    </div>\n",
    "    <div id=\"menu2\" class=\"tab-pane fade\">\n",
    "      <p>Grafica de cosn(x).</p>\n",
    "      <img src=\"cos.png\" alt=\"cos(x)\">\n",
    "    </div>\n",
    "  </div>\n",
    "</div>\n",
    "\n",
    "\n",
    "</body>\n",
    "</html>\n"
   ]
  },
  {
   "cell_type": "markdown",
   "metadata": {},
   "source": [
    "# Más sobre creación de sitios web\n",
    "\n",
    "Visite el sitio https://www.w3schools.com/booTsTrap/default.asp para que realice un tutorial completo sobre páginas web"
   ]
  },
  {
   "cell_type": "markdown",
   "metadata": {},
   "source": [
    "---"
   ]
  },
  {
   "cell_type": "markdown",
   "metadata": {},
   "source": [
    "**Ejercicio.--** De la página medata.gov.co, seleccione una de las historias de datos y construya un dashboard similar usando HTML."
   ]
  },
  {
   "cell_type": "markdown",
   "metadata": {},
   "source": [
    "---"
   ]
  },
  {
   "cell_type": "markdown",
   "metadata": {},
   "source": [
    "Generación de Dashboards usando Python y HTML\n",
    "===\n",
    "\n",
    "**Juan David Velásquez Henao**  \n",
    "jdvelasq@unal.edu.co   \n",
    "Universidad Nacional de Colombia, Sede Medellín  \n",
    "Facultad de Minas  \n",
    "Medellín, Colombia\n",
    "\n",
    "---\n",
    "\n",
    "Haga click [aquí](https://github.com/jdvelasq/CDA-09-2-dashboards) para acceder al repositorio online.\n",
    "\n",
    "Haga click [aquí](http://nbviewer.jupyter.org/github/jdvelasq/CDA-09-2-dashboards/tree/master/) para explorar el repositorio usando `nbviewer`. "
   ]
  }
 ],
 "metadata": {
  "kernel_info": {
   "name": "python3"
  },
  "kernelspec": {
   "display_name": "Python 3",
   "language": "python",
   "name": "python3"
  },
  "language_info": {
   "codemirror_mode": {
    "name": "ipython",
    "version": 3
   },
   "file_extension": ".py",
   "mimetype": "text/x-python",
   "name": "python",
   "nbconvert_exporter": "python",
   "pygments_lexer": "ipython3",
   "version": "3.6.5"
  },
  "nteract": {
   "version": "0.7.1"
  }
 },
 "nbformat": 4,
 "nbformat_minor": 2
}
